{
 "cells": [
  {
   "cell_type": "code",
   "execution_count": 1,
   "id": "a79c6665",
   "metadata": {},
   "outputs": [],
   "source": [
    "import requests\n",
    "from bs4 import BeautifulSoup\n",
    "import re\n",
    "import pandas as pd\n",
    "from tqdm import tqdm"
   ]
  },
  {
   "cell_type": "code",
   "execution_count": 2,
   "id": "b4d9a4ed",
   "metadata": {},
   "outputs": [],
   "source": [
    "standing_url = \"https://isu.html.infostradasports.com/cache/TheASP.asp@PageID%3D302901&SportID%3D302&TaalCode%3D2&StyleID%3D0&Cache%3D2.html?278331\""
   ]
  },
  {
   "cell_type": "code",
   "execution_count": 3,
   "id": "e832c345",
   "metadata": {},
   "outputs": [],
   "source": [
    "catalogue_data = requests.get(standing_url)"
   ]
  },
  {
   "cell_type": "code",
   "execution_count": 4,
   "id": "f8823d8d",
   "metadata": {},
   "outputs": [],
   "source": [
    "catalogue_soup = BeautifulSoup(catalogue_data.text).select(\"table\")[0]"
   ]
  },
  {
   "cell_type": "code",
   "execution_count": 5,
   "id": "3b36867e",
   "metadata": {},
   "outputs": [],
   "source": [
    "country_links_a = catalogue_soup.find_all(\"a\")"
   ]
  },
  {
   "cell_type": "code",
   "execution_count": 6,
   "id": "601a5981",
   "metadata": {},
   "outputs": [],
   "source": [
    "# 尝试爬下来国家\n",
    "# str(country_links_a[0])\n",
    "# re.match(\".+([A-Za-z]+)</span></a>\", str(country_links_a[0])).group(1)"
   ]
  },
  {
   "cell_type": "code",
   "execution_count": 7,
   "id": "b32e8ed4",
   "metadata": {},
   "outputs": [],
   "source": [
    "country_links = [\"https://isu.html.infostradasports.com\" + link_a.get(\"href\") for link_a in country_links_a]"
   ]
  },
  {
   "cell_type": "code",
   "execution_count": 8,
   "id": "fca26dde",
   "metadata": {},
   "outputs": [
    {
     "data": {
      "text/plain": [
       "50"
      ]
     },
     "execution_count": 8,
     "metadata": {},
     "output_type": "execute_result"
    }
   ],
   "source": [
    "country_links = list(set(country_links))\n",
    "len(country_links)"
   ]
  },
  {
   "cell_type": "code",
   "execution_count": 9,
   "id": "cfbd21ef",
   "metadata": {},
   "outputs": [
    {
     "data": {
      "text/plain": [
       "['https://isu.html.infostradasports.com/asp/redirect/isu.asp?page=athletebioslist_st&sportid=103&nocclubid=28&Cache=2',\n",
       " 'https://isu.html.infostradasports.com/asp/redirect/isu.asp?page=athletebioslist_st&sportid=103&nocclubid=154&Cache=2',\n",
       " 'https://isu.html.infostradasports.com/asp/redirect/isu.asp?page=athletebioslist_st&sportid=103&nocclubid=110&Cache=2',\n",
       " 'https://isu.html.infostradasports.com/asp/redirect/isu.asp?page=athletebioslist_st&sportid=103&nocclubid=101&Cache=2',\n",
       " 'https://isu.html.infostradasports.com/asp/redirect/isu.asp?page=athletebioslist_st&sportid=103&nocclubid=211&Cache=2',\n",
       " 'https://isu.html.infostradasports.com/asp/redirect/isu.asp?page=athletebioslist_st&sportid=103&nocclubid=147&Cache=2',\n",
       " 'https://isu.html.infostradasports.com/asp/redirect/isu.asp?page=athletebioslist_st&sportid=103&nocclubid=227&Cache=2',\n",
       " 'https://isu.html.infostradasports.com/asp/redirect/isu.asp?page=athletebioslist_st&sportid=103&nocclubid=103&Cache=2',\n",
       " 'https://isu.html.infostradasports.com/asp/redirect/isu.asp?page=athletebioslist_st&sportid=103&nocclubid=144&Cache=2',\n",
       " 'https://isu.html.infostradasports.com/asp/redirect/isu.asp?page=athletebioslist_st&sportid=103&nocclubid=106&Cache=2',\n",
       " 'https://isu.html.infostradasports.com/asp/redirect/isu.asp?page=athletebioslist_st&sportid=103&nocclubid=29&Cache=2',\n",
       " 'https://isu.html.infostradasports.com/asp/redirect/isu.asp?page=athletebioslist_st&sportid=103&nocclubid=26&Cache=2',\n",
       " 'https://isu.html.infostradasports.com/asp/redirect/isu.asp?page=athletebioslist_st&sportid=103&nocclubid=24&Cache=2',\n",
       " 'https://isu.html.infostradasports.com/asp/redirect/isu.asp?page=athletebioslist_st&sportid=103&nocclubid=89&Cache=2',\n",
       " 'https://isu.html.infostradasports.com/asp/redirect/isu.asp?page=athletebioslist_st&sportid=103&nocclubid=148&Cache=2',\n",
       " 'https://isu.html.infostradasports.com/asp/redirect/isu.asp?page=athletebioslist_st&sportid=103&nocclubid=19&Cache=2',\n",
       " 'https://isu.html.infostradasports.com/asp/redirect/isu.asp?page=athletebioslist_st&sportid=103&nocclubid=178&Cache=2',\n",
       " 'https://isu.html.infostradasports.com/asp/redirect/isu.asp?page=athletebioslist_st&sportid=103&nocclubid=107&Cache=2',\n",
       " 'https://isu.html.infostradasports.com/asp/redirect/isu.asp?page=athletebioslist_st&sportid=103&nocclubid=3&Cache=2',\n",
       " 'https://isu.html.infostradasports.com/asp/redirect/isu.asp?page=athletebioslist_st&sportid=103&nocclubid=232&Cache=2',\n",
       " 'https://isu.html.infostradasports.com/asp/redirect/isu.asp?page=athletebioslist_st&sportid=103&nocclubid=146&Cache=2',\n",
       " 'https://isu.html.infostradasports.com/asp/redirect/isu.asp?page=athletebioslist_st&sportid=103&nocclubid=157&Cache=2',\n",
       " 'https://isu.html.infostradasports.com/asp/redirect/isu.asp?page=athletebioslist_st&sportid=103&nocclubid=5&Cache=2',\n",
       " 'https://isu.html.infostradasports.com/asp/redirect/isu.asp?page=athletebioslist_st&sportid=103&nocclubid=18&Cache=2',\n",
       " 'https://isu.html.infostradasports.com/asp/redirect/isu.asp?page=athletebioslist_st&sportid=103&nocclubid=38&Cache=2',\n",
       " 'https://isu.html.infostradasports.com/asp/redirect/isu.asp?page=athletebioslist_st&sportid=103&nocclubid=1&Cache=2',\n",
       " 'https://isu.html.infostradasports.com/asp/redirect/isu.asp?page=athletebioslist_st&sportid=103&nocclubid=153&Cache=2',\n",
       " 'https://isu.html.infostradasports.com/asp/redirect/isu.asp?page=athletebioslist_st&sportid=103&nocclubid=164&Cache=2',\n",
       " 'https://isu.html.infostradasports.com/asp/redirect/isu.asp?page=athletebioslist_st&sportid=103&nocclubid=150&Cache=2',\n",
       " 'https://isu.html.infostradasports.com/asp/redirect/isu.asp?page=athletebioslist_st&sportid=103&nocclubid=33&Cache=2',\n",
       " 'https://isu.html.infostradasports.com/asp/redirect/isu.asp?page=athletebioslist_st&sportid=103&nocclubid=149&Cache=2',\n",
       " 'https://isu.html.infostradasports.com/asp/redirect/isu.asp?page=athletebioslist_st&sportid=103&nocclubid=94&Cache=2',\n",
       " 'https://isu.html.infostradasports.com/asp/redirect/isu.asp?page=athletebioslist_st&sportid=103&nocclubid=13&Cache=2',\n",
       " 'https://isu.html.infostradasports.com/asp/redirect/isu.asp?page=athletebioslist_st&sportid=103&nocclubid=31&Cache=2',\n",
       " 'https://isu.html.infostradasports.com/asp/redirect/isu.asp?page=athletebioslist_st&sportid=103&nocclubid=9&Cache=2',\n",
       " 'https://isu.html.infostradasports.com/asp/redirect/isu.asp?page=athletebioslist_st&sportid=103&nocclubid=14&Cache=2',\n",
       " 'https://isu.html.infostradasports.com/asp/redirect/isu.asp?page=athletebioslist_st&sportid=103&nocclubid=30&Cache=2',\n",
       " 'https://isu.html.infostradasports.com/asp/redirect/isu.asp?page=athletebioslist_st&sportid=103&nocclubid=12&Cache=2',\n",
       " 'https://isu.html.infostradasports.com/asp/redirect/isu.asp?page=athletebioslist_st&sportid=103&nocclubid=6&Cache=2',\n",
       " 'https://isu.html.infostradasports.com/asp/redirect/isu.asp?page=athletebioslist_st&sportid=103&nocclubid=151&Cache=2',\n",
       " 'https://isu.html.infostradasports.com/asp/redirect/isu.asp?page=athletebioslist_st&sportid=103&nocclubid=7&Cache=2',\n",
       " 'https://isu.html.infostradasports.com/asp/redirect/isu.asp?page=athletebioslist_st&sportid=103&nocclubid=159&Cache=2',\n",
       " 'https://isu.html.infostradasports.com/asp/redirect/isu.asp?page=athletebioslist_st&sportid=103&nocclubid=158&Cache=2',\n",
       " 'https://isu.html.infostradasports.com/asp/redirect/isu.asp?page=athletebioslist_st&sportid=103&nocclubid=160&Cache=2',\n",
       " 'https://isu.html.infostradasports.com/asp/redirect/isu.asp?page=athletebioslist_st&sportid=103&nocclubid=145&Cache=2',\n",
       " 'https://isu.html.infostradasports.com/asp/redirect/isu.asp?page=athletebioslist_st&sportid=103&nocclubid=17&Cache=2',\n",
       " 'https://isu.html.infostradasports.com/asp/redirect/isu.asp?page=athletebioslist_st&sportid=103&nocclubid=130&Cache=2',\n",
       " 'https://isu.html.infostradasports.com/asp/redirect/isu.asp?page=athletebioslist_st&sportid=103&nocclubid=78&Cache=2',\n",
       " 'https://isu.html.infostradasports.com/asp/redirect/isu.asp?page=athletebioslist_st&sportid=103&nocclubid=85&Cache=2',\n",
       " 'https://isu.html.infostradasports.com/asp/redirect/isu.asp?page=athletebioslist_st&sportid=103&nocclubid=2&Cache=2']"
      ]
     },
     "execution_count": 9,
     "metadata": {},
     "output_type": "execute_result"
    }
   ],
   "source": [
    "country_links"
   ]
  },
  {
   "cell_type": "code",
   "execution_count": null,
   "id": "c0d06564",
   "metadata": {},
   "outputs": [],
   "source": []
  },
  {
   "cell_type": "code",
   "execution_count": null,
   "id": "3b124d5d",
   "metadata": {},
   "outputs": [],
   "source": []
  },
  {
   "cell_type": "code",
   "execution_count": null,
   "id": "a6a1aa77",
   "metadata": {},
   "outputs": [],
   "source": []
  },
  {
   "cell_type": "code",
   "execution_count": null,
   "id": "1f1e9a0f",
   "metadata": {},
   "outputs": [],
   "source": []
  },
  {
   "cell_type": "code",
   "execution_count": null,
   "id": "429d4d96",
   "metadata": {},
   "outputs": [],
   "source": []
  },
  {
   "cell_type": "code",
   "execution_count": null,
   "id": "1a0d8cf8",
   "metadata": {},
   "outputs": [],
   "source": []
  },
  {
   "cell_type": "code",
   "execution_count": null,
   "id": "692cd642",
   "metadata": {},
   "outputs": [],
   "source": []
  },
  {
   "cell_type": "code",
   "execution_count": null,
   "id": "2d380493",
   "metadata": {},
   "outputs": [],
   "source": []
  },
  {
   "cell_type": "code",
   "execution_count": null,
   "id": "522f275d",
   "metadata": {},
   "outputs": [],
   "source": []
  },
  {
   "cell_type": "code",
   "execution_count": 10,
   "id": "02bfd2d2",
   "metadata": {},
   "outputs": [],
   "source": [
    "athlete_table = []"
   ]
  },
  {
   "cell_type": "code",
   "execution_count": 11,
   "id": "9d049692",
   "metadata": {},
   "outputs": [
    {
     "name": "stderr",
     "output_type": "stream",
     "text": [
      "100%|██████████| 50/50 [18:25<00:00, 22.11s/it]\n"
     ]
    }
   ],
   "source": [
    "for country_link in tqdm(country_links):\n",
    "    athlete_data = requests.get(country_link)\n",
    "    athlete_soup = BeautifulSoup(athlete_data.text).select(\"table\")[0]\n",
    "    athlete_links_a = athlete_soup.find_all(\"a\")\n",
    "    athlete_links = [\"https://isu.html.infostradasports.com\" + link_a.get(\"href\") for link_a in athlete_links_a]\n",
    "    for athlete_link in athlete_links:\n",
    "        personal_data = requests.get(athlete_link)\n",
    "        personal_soup = BeautifulSoup(personal_data.text)\n",
    "        # 爬取姓名\n",
    "        name = re.match(\"<h1>(.+)</h1>\", str(personal_soup.select(\"#short > h1\")[0])).group(1).title()\n",
    "        \n",
    "        # 爬取性别\n",
    "        gender_data = personal_soup.select(\"#short > div > div.bio_personinfo_stats > table > tr:nth-child(5) > td.bio-text\")[0]\n",
    "        gender = re.match(\"<.+>([A-Za-z]+)</td>\", str(gender_data)).group(1)\n",
    "        # print(name, gender)\n",
    "        \n",
    "        # 爬取生日\n",
    "        birth_data = personal_soup.select(\"#short > div > div.bio_personinfo_stats > table > tr:nth-child(4) > td.bio-text\")[0]\n",
    "        birth_year = re.match(\".+(\\d{4})\", str(birth_data)).group(1)\n",
    "        age = 2022 - int(birth_year)\n",
    "        athlete_table.append([name, gender, birth_year, age])"
   ]
  },
  {
   "cell_type": "code",
   "execution_count": 12,
   "id": "15b2a166",
   "metadata": {},
   "outputs": [],
   "source": [
    "name = [\"Name\", \"Gender\", \"BirthYear\", \"Age\"]\n",
    "athletes = pd.DataFrame(columns=name, data=athlete_table)"
   ]
  },
  {
   "cell_type": "code",
   "execution_count": 13,
   "id": "a4f53114",
   "metadata": {},
   "outputs": [],
   "source": [
    "# athletes.drop_duplicates().to_csv(\"data/new_athletes.csv\", index=False)"
   ]
  },
  {
   "cell_type": "code",
   "execution_count": 15,
   "id": "a1857974",
   "metadata": {},
   "outputs": [],
   "source": [
    "athletes.to_csv(\"data/new_athletes.csv\", index=False)"
   ]
  },
  {
   "cell_type": "code",
   "execution_count": null,
   "id": "0cc0b90f",
   "metadata": {},
   "outputs": [],
   "source": []
  }
 ],
 "metadata": {
  "kernelspec": {
   "display_name": "Python 3",
   "language": "python",
   "name": "python3"
  },
  "language_info": {
   "codemirror_mode": {
    "name": "ipython",
    "version": 3
   },
   "file_extension": ".py",
   "mimetype": "text/x-python",
   "name": "python",
   "nbconvert_exporter": "python",
   "pygments_lexer": "ipython3",
   "version": "3.8.8"
  }
 },
 "nbformat": 4,
 "nbformat_minor": 5
}
