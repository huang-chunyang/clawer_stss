{
 "cells": [
  {
   "cell_type": "code",
   "execution_count": 1,
   "id": "a0168477",
   "metadata": {},
   "outputs": [],
   "source": [
    "import requests"
   ]
  },
  {
   "cell_type": "code",
   "execution_count": 2,
   "id": "faefd0e4",
   "metadata": {},
   "outputs": [],
   "source": [
    "standings_url = \"https://shorttrack.sportresult.com/?evt=11213100000088&__VIEWSTATEGENERATOR=CA0B0334\""
   ]
  },
  {
   "cell_type": "code",
   "execution_count": 3,
   "id": "54b34b00",
   "metadata": {},
   "outputs": [],
   "source": [
    "data = requests.get(standings_url)"
   ]
  },
  {
   "cell_type": "code",
   "execution_count": 4,
   "id": "f797a33a",
   "metadata": {},
   "outputs": [],
   "source": [
    "from bs4 import BeautifulSoup"
   ]
  },
  {
   "cell_type": "code",
   "execution_count": 5,
   "id": "a6219e92",
   "metadata": {},
   "outputs": [],
   "source": [
    "soup = BeautifulSoup(data.text)"
   ]
  },
  {
   "cell_type": "code",
   "execution_count": 6,
   "id": "31519452",
   "metadata": {},
   "outputs": [],
   "source": [
    "links_a = soup.find(\"div\", {\"id\": \"contentrightsmall\"}).find_all('a')"
   ]
  },
  {
   "cell_type": "code",
   "execution_count": 7,
   "id": "45fb6a03",
   "metadata": {},
   "outputs": [],
   "source": [
    "links = [\"https://shorttrack.sportresult.com/\" + l.get(\"href\") for l in links_a]"
   ]
  },
  {
   "cell_type": "code",
   "execution_count": 8,
   "id": "1367a9c0",
   "metadata": {},
   "outputs": [],
   "source": [
    "names = [n.contents[0] for n in links_a]"
   ]
  },
  {
   "cell_type": "markdown",
   "id": "08739347",
   "metadata": {},
   "source": [
    "各比赛url，进入各比赛"
   ]
  },
  {
   "cell_type": "code",
   "execution_count": 9,
   "id": "8ef5e44f",
   "metadata": {},
   "outputs": [],
   "source": [
    "link = links[9]\n",
    "name = names[9]"
   ]
  },
  {
   "cell_type": "code",
   "execution_count": 10,
   "id": "0d1438c4",
   "metadata": {},
   "outputs": [
    {
     "data": {
      "text/plain": [
       "'https://shorttrack.sportresult.com/Results.aspx?evt=11213100000088&gen=w&ref=64868&view=rou'"
      ]
     },
     "execution_count": 10,
     "metadata": {},
     "output_type": "execute_result"
    }
   ],
   "source": [
    "link"
   ]
  },
  {
   "cell_type": "code",
   "execution_count": 11,
   "id": "55481a3d",
   "metadata": {},
   "outputs": [
    {
     "data": {
      "text/plain": [
       "'Women - 500m - Finals'"
      ]
     },
     "execution_count": 11,
     "metadata": {},
     "output_type": "execute_result"
    }
   ],
   "source": [
    "name"
   ]
  },
  {
   "cell_type": "code",
   "execution_count": 12,
   "id": "348af7da",
   "metadata": {},
   "outputs": [],
   "source": [
    "sex, project, level = name.split(\" - \")"
   ]
  },
  {
   "cell_type": "code",
   "execution_count": 13,
   "id": "573781da",
   "metadata": {},
   "outputs": [
    {
     "data": {
      "text/plain": [
       "('Women', '500m', 'Finals')"
      ]
     },
     "execution_count": 13,
     "metadata": {},
     "output_type": "execute_result"
    }
   ],
   "source": [
    "sex, project, level"
   ]
  },
  {
   "cell_type": "code",
   "execution_count": 14,
   "id": "9dc51c72",
   "metadata": {},
   "outputs": [],
   "source": [
    "result_data = requests.get(link)"
   ]
  },
  {
   "cell_type": "code",
   "execution_count": 15,
   "id": "97f9150b",
   "metadata": {},
   "outputs": [],
   "source": [
    "import pandas as pd"
   ]
  },
  {
   "cell_type": "markdown",
   "id": "b914001e",
   "metadata": {},
   "source": [
    "Final A B 的表格"
   ]
  },
  {
   "cell_type": "code",
   "execution_count": 16,
   "id": "b0d423ab",
   "metadata": {},
   "outputs": [],
   "source": [
    "tables = pd.read_html(result_data.text)[2:] # 这里希望通过match 匹配正确的表格，并且想要获取 Final A　＆　Final　B　的名字"
   ]
  },
  {
   "cell_type": "markdown",
   "id": "e2f254ca",
   "metadata": {},
   "source": [
    "爬取 两个spllits 的url"
   ]
  },
  {
   "cell_type": "code",
   "execution_count": 17,
   "id": "cf003ad5",
   "metadata": {},
   "outputs": [],
   "source": [
    "split_data = BeautifulSoup(result_data.text).find_all(\"div\", {\"class\": \"tabletitle\"})"
   ]
  },
  {
   "cell_type": "code",
   "execution_count": 18,
   "id": "233a59e6",
   "metadata": {},
   "outputs": [],
   "source": [
    "split_links = [l.find(\"a\").get(\"href\") for l in split_data]"
   ]
  },
  {
   "cell_type": "code",
   "execution_count": 19,
   "id": "6cbcb788",
   "metadata": {},
   "outputs": [
    {
     "data": {
      "text/plain": [
       "['http://shorttrack.sportresult.com/Results.aspx?evt=11213100000088&gen=w&ref=64868&view=rou&sub=spl&rac=1',\n",
       " 'http://shorttrack.sportresult.com/Results.aspx?evt=11213100000088&gen=w&ref=64868&view=rou&sub=spl&rac=2']"
      ]
     },
     "execution_count": 19,
     "metadata": {},
     "output_type": "execute_result"
    }
   ],
   "source": [
    "split_links"
   ]
  },
  {
   "cell_type": "markdown",
   "id": "1246b8e5",
   "metadata": {},
   "source": [
    "爬取 表格的名称 eg Final A"
   ]
  },
  {
   "cell_type": "code",
   "execution_count": 20,
   "id": "77758594",
   "metadata": {},
   "outputs": [
    {
     "data": {
      "text/plain": [
       "['FinalA', 'FinalB']"
      ]
     },
     "execution_count": 20,
     "metadata": {},
     "output_type": "execute_result"
    }
   ],
   "source": [
    "import re\n",
    "table_names = [re.sub('[\\r\\n\\t ]','',table.find('b').text) for table in split_data]"
   ]
  },
  {
   "cell_type": "markdown",
   "id": "95d9394c",
   "metadata": {},
   "source": [
    "爬取里面的表格"
   ]
  },
  {
   "cell_type": "code",
   "execution_count": 21,
   "id": "6f074fd6",
   "metadata": {},
   "outputs": [],
   "source": [
    "split_link = split_links[0]"
   ]
  },
  {
   "cell_type": "code",
   "execution_count": 22,
   "id": "2367e03f",
   "metadata": {},
   "outputs": [],
   "source": [
    "split_data = requests.get(split_link)"
   ]
  },
  {
   "cell_type": "code",
   "execution_count": 23,
   "id": "9be95507",
   "metadata": {},
   "outputs": [],
   "source": [
    "split_tables = pd.read_html(split_data.text)\n",
    "split_table = pd.read_html(split_data.text)[1]"
   ]
  },
  {
   "cell_type": "code",
   "execution_count": 33,
   "id": "c694d245",
   "metadata": {},
   "outputs": [
    {
     "data": {
      "text/plain": [
       "2"
      ]
     },
     "execution_count": 33,
     "metadata": {},
     "output_type": "execute_result"
    }
   ],
   "source": []
  },
  {
   "cell_type": "code",
   "execution_count": 24,
   "id": "4ddb98de",
   "metadata": {},
   "outputs": [],
   "source": [
    "import numpy as np"
   ]
  },
  {
   "cell_type": "code",
   "execution_count": 25,
   "id": "c76342c3",
   "metadata": {},
   "outputs": [],
   "source": [
    "split_table_T = split_table.set_index(\"Unnamed: 0\").T"
   ]
  },
  {
   "cell_type": "code",
   "execution_count": 26,
   "id": "e33a6d23",
   "metadata": {},
   "outputs": [
    {
     "data": {
      "text/html": [
       "<div>\n",
       "<style scoped>\n",
       "    .dataframe tbody tr th:only-of-type {\n",
       "        vertical-align: middle;\n",
       "    }\n",
       "\n",
       "    .dataframe tbody tr th {\n",
       "        vertical-align: top;\n",
       "    }\n",
       "\n",
       "    .dataframe thead th {\n",
       "        text-align: right;\n",
       "    }\n",
       "</style>\n",
       "<table border=\"1\" class=\"dataframe\">\n",
       "  <thead>\n",
       "    <tr style=\"text-align: right;\">\n",
       "      <th>Unnamed: 0</th>\n",
       "      <th>1</th>\n",
       "      <th>2</th>\n",
       "      <th>3</th>\n",
       "      <th>4</th>\n",
       "      <th>5</th>\n",
       "    </tr>\n",
       "  </thead>\n",
       "  <tbody>\n",
       "    <tr>\n",
       "      <th>Arianna FONTANA</th>\n",
       "      <td>[2]  7.10  (7.10)</td>\n",
       "      <td>[2]  16.19  (9.09)</td>\n",
       "      <td>[2]  24.87  (8.68)</td>\n",
       "      <td>[1]  33.62  (8.75)</td>\n",
       "      <td>[1]  42.488  (8.86)</td>\n",
       "    </tr>\n",
       "    <tr>\n",
       "      <th>Suzanne SCHULTING</th>\n",
       "      <td>[1]  6.96  (6.96)</td>\n",
       "      <td>[1]  16.07  (9.11)</td>\n",
       "      <td>[1]  24.79  (8.72)</td>\n",
       "      <td>[2]  33.69  (8.90)</td>\n",
       "      <td>[2]  42.559  (8.86)</td>\n",
       "    </tr>\n",
       "    <tr>\n",
       "      <th>BOUTIN Kim</th>\n",
       "      <td>[3]  7.23  (7.23)</td>\n",
       "      <td>[3]  16.30  (9.07)</td>\n",
       "      <td>[3]  24.99  (8.69)</td>\n",
       "      <td>[3]  33.79  (8.80)</td>\n",
       "      <td>[3]  42.724  (8.93)</td>\n",
       "    </tr>\n",
       "    <tr>\n",
       "      <th>ZHANG Yuting</th>\n",
       "      <td>[4]  7.44  (7.44)</td>\n",
       "      <td>[4]  16.50  (9.06)</td>\n",
       "      <td>[4]  25.10  (8.60)</td>\n",
       "      <td>[4]  33.86  (8.76)</td>\n",
       "      <td>[4]  42.803  (8.94)</td>\n",
       "    </tr>\n",
       "    <tr>\n",
       "      <th>DESMET Hanne</th>\n",
       "      <td>[5]  7.66  (7.66)</td>\n",
       "      <td>[5]  16.78  (9.12)</td>\n",
       "      <td>[5]  25.35  (8.57)</td>\n",
       "      <td>[5]  34.05  (8.70)</td>\n",
       "      <td>[5]  42.941  (8.89)</td>\n",
       "    </tr>\n",
       "  </tbody>\n",
       "</table>\n",
       "</div>"
      ],
      "text/plain": [
       "Unnamed: 0                         1                   2                   3  \\\n",
       "Arianna FONTANA    [2]  7.10  (7.10)  [2]  16.19  (9.09)  [2]  24.87  (8.68)   \n",
       "Suzanne SCHULTING  [1]  6.96  (6.96)  [1]  16.07  (9.11)  [1]  24.79  (8.72)   \n",
       "BOUTIN Kim         [3]  7.23  (7.23)  [3]  16.30  (9.07)  [3]  24.99  (8.69)   \n",
       "ZHANG Yuting       [4]  7.44  (7.44)  [4]  16.50  (9.06)  [4]  25.10  (8.60)   \n",
       "DESMET Hanne       [5]  7.66  (7.66)  [5]  16.78  (9.12)  [5]  25.35  (8.57)   \n",
       "\n",
       "Unnamed: 0                          4                    5  \n",
       "Arianna FONTANA    [1]  33.62  (8.75)  [1]  42.488  (8.86)  \n",
       "Suzanne SCHULTING  [2]  33.69  (8.90)  [2]  42.559  (8.86)  \n",
       "BOUTIN Kim         [3]  33.79  (8.80)  [3]  42.724  (8.93)  \n",
       "ZHANG Yuting       [4]  33.86  (8.76)  [4]  42.803  (8.94)  \n",
       "DESMET Hanne       [5]  34.05  (8.70)  [5]  42.941  (8.89)  "
      ]
     },
     "execution_count": 26,
     "metadata": {},
     "output_type": "execute_result"
    }
   ],
   "source": [
    "split_table_T"
   ]
  },
  {
   "cell_type": "code",
   "execution_count": 27,
   "id": "c6016f23",
   "metadata": {},
   "outputs": [],
   "source": [
    "import re\n"
   ]
  },
  {
   "cell_type": "code",
   "execution_count": 28,
   "id": "394acae3",
   "metadata": {},
   "outputs": [],
   "source": [
    "x, y = split_table_T.shape\n",
    "lap_time = split_table_T\n",
    "for i in range(x):\n",
    "    for j in range(y):\n",
    "        m = re.match(r'\\[(\\d)\\]\\s+(\\d+\\.\\d+)\\s+\\((\\d+\\.\\d+)\\)', split_table_T.iloc[i, j])\n",
    "        lap_time.iloc[i, j] = m.group(3)"
   ]
  },
  {
   "cell_type": "code",
   "execution_count": 29,
   "id": "d6884cf0",
   "metadata": {},
   "outputs": [
    {
     "data": {
      "text/html": [
       "<div>\n",
       "<style scoped>\n",
       "    .dataframe tbody tr th:only-of-type {\n",
       "        vertical-align: middle;\n",
       "    }\n",
       "\n",
       "    .dataframe tbody tr th {\n",
       "        vertical-align: top;\n",
       "    }\n",
       "\n",
       "    .dataframe thead th {\n",
       "        text-align: right;\n",
       "    }\n",
       "</style>\n",
       "<table border=\"1\" class=\"dataframe\">\n",
       "  <thead>\n",
       "    <tr style=\"text-align: right;\">\n",
       "      <th>Unnamed: 0</th>\n",
       "      <th>1</th>\n",
       "      <th>2</th>\n",
       "      <th>3</th>\n",
       "      <th>4</th>\n",
       "      <th>5</th>\n",
       "    </tr>\n",
       "  </thead>\n",
       "  <tbody>\n",
       "    <tr>\n",
       "      <th>Arianna FONTANA</th>\n",
       "      <td>7.10</td>\n",
       "      <td>9.09</td>\n",
       "      <td>8.68</td>\n",
       "      <td>8.75</td>\n",
       "      <td>8.86</td>\n",
       "    </tr>\n",
       "    <tr>\n",
       "      <th>Suzanne SCHULTING</th>\n",
       "      <td>6.96</td>\n",
       "      <td>9.11</td>\n",
       "      <td>8.72</td>\n",
       "      <td>8.90</td>\n",
       "      <td>8.86</td>\n",
       "    </tr>\n",
       "    <tr>\n",
       "      <th>BOUTIN Kim</th>\n",
       "      <td>7.23</td>\n",
       "      <td>9.07</td>\n",
       "      <td>8.69</td>\n",
       "      <td>8.80</td>\n",
       "      <td>8.93</td>\n",
       "    </tr>\n",
       "    <tr>\n",
       "      <th>ZHANG Yuting</th>\n",
       "      <td>7.44</td>\n",
       "      <td>9.06</td>\n",
       "      <td>8.60</td>\n",
       "      <td>8.76</td>\n",
       "      <td>8.94</td>\n",
       "    </tr>\n",
       "    <tr>\n",
       "      <th>DESMET Hanne</th>\n",
       "      <td>7.66</td>\n",
       "      <td>9.12</td>\n",
       "      <td>8.57</td>\n",
       "      <td>8.70</td>\n",
       "      <td>8.89</td>\n",
       "    </tr>\n",
       "  </tbody>\n",
       "</table>\n",
       "</div>"
      ],
      "text/plain": [
       "Unnamed: 0            1     2     3     4     5\n",
       "Arianna FONTANA    7.10  9.09  8.68  8.75  8.86\n",
       "Suzanne SCHULTING  6.96  9.11  8.72  8.90  8.86\n",
       "BOUTIN Kim         7.23  9.07  8.69  8.80  8.93\n",
       "ZHANG Yuting       7.44  9.06  8.60  8.76  8.94\n",
       "DESMET Hanne       7.66  9.12  8.57  8.70  8.89"
      ]
     },
     "execution_count": 29,
     "metadata": {},
     "output_type": "execute_result"
    }
   ],
   "source": [
    "lap_time"
   ]
  },
  {
   "cell_type": "code",
   "execution_count": 30,
   "id": "b4502be8",
   "metadata": {},
   "outputs": [],
   "source": [
    "lap_time = lap_time.rename_axis('index').reset_index().rename({\"index\": \"Name\"}, axis=1)"
   ]
  },
  {
   "cell_type": "code",
   "execution_count": 31,
   "id": "24f63f50",
   "metadata": {},
   "outputs": [
    {
     "data": {
      "text/html": [
       "<div>\n",
       "<style scoped>\n",
       "    .dataframe tbody tr th:only-of-type {\n",
       "        vertical-align: middle;\n",
       "    }\n",
       "\n",
       "    .dataframe tbody tr th {\n",
       "        vertical-align: top;\n",
       "    }\n",
       "\n",
       "    .dataframe thead th {\n",
       "        text-align: right;\n",
       "    }\n",
       "</style>\n",
       "<table border=\"1\" class=\"dataframe\">\n",
       "  <thead>\n",
       "    <tr style=\"text-align: right;\">\n",
       "      <th>Unnamed: 0</th>\n",
       "      <th>Name</th>\n",
       "      <th>1</th>\n",
       "      <th>2</th>\n",
       "      <th>3</th>\n",
       "      <th>4</th>\n",
       "      <th>5</th>\n",
       "    </tr>\n",
       "  </thead>\n",
       "  <tbody>\n",
       "    <tr>\n",
       "      <th>0</th>\n",
       "      <td>Arianna FONTANA</td>\n",
       "      <td>7.10</td>\n",
       "      <td>9.09</td>\n",
       "      <td>8.68</td>\n",
       "      <td>8.75</td>\n",
       "      <td>8.86</td>\n",
       "    </tr>\n",
       "    <tr>\n",
       "      <th>1</th>\n",
       "      <td>Suzanne SCHULTING</td>\n",
       "      <td>6.96</td>\n",
       "      <td>9.11</td>\n",
       "      <td>8.72</td>\n",
       "      <td>8.90</td>\n",
       "      <td>8.86</td>\n",
       "    </tr>\n",
       "    <tr>\n",
       "      <th>2</th>\n",
       "      <td>BOUTIN Kim</td>\n",
       "      <td>7.23</td>\n",
       "      <td>9.07</td>\n",
       "      <td>8.69</td>\n",
       "      <td>8.80</td>\n",
       "      <td>8.93</td>\n",
       "    </tr>\n",
       "    <tr>\n",
       "      <th>3</th>\n",
       "      <td>ZHANG Yuting</td>\n",
       "      <td>7.44</td>\n",
       "      <td>9.06</td>\n",
       "      <td>8.60</td>\n",
       "      <td>8.76</td>\n",
       "      <td>8.94</td>\n",
       "    </tr>\n",
       "    <tr>\n",
       "      <th>4</th>\n",
       "      <td>DESMET Hanne</td>\n",
       "      <td>7.66</td>\n",
       "      <td>9.12</td>\n",
       "      <td>8.57</td>\n",
       "      <td>8.70</td>\n",
       "      <td>8.89</td>\n",
       "    </tr>\n",
       "  </tbody>\n",
       "</table>\n",
       "</div>"
      ],
      "text/plain": [
       "Unnamed: 0               Name     1     2     3     4     5\n",
       "0             Arianna FONTANA  7.10  9.09  8.68  8.75  8.86\n",
       "1           Suzanne SCHULTING  6.96  9.11  8.72  8.90  8.86\n",
       "2                  BOUTIN Kim  7.23  9.07  8.69  8.80  8.93\n",
       "3                ZHANG Yuting  7.44  9.06  8.60  8.76  8.94\n",
       "4                DESMET Hanne  7.66  9.12  8.57  8.70  8.89"
      ]
     },
     "execution_count": 31,
     "metadata": {},
     "output_type": "execute_result"
    }
   ],
   "source": [
    "lap_time"
   ]
  },
  {
   "cell_type": "code",
   "execution_count": 32,
   "id": "3e558dc2",
   "metadata": {},
   "outputs": [
    {
     "data": {
      "text/html": [
       "<div>\n",
       "<style scoped>\n",
       "    .dataframe tbody tr th:only-of-type {\n",
       "        vertical-align: middle;\n",
       "    }\n",
       "\n",
       "    .dataframe tbody tr th {\n",
       "        vertical-align: top;\n",
       "    }\n",
       "\n",
       "    .dataframe thead th {\n",
       "        text-align: right;\n",
       "    }\n",
       "</style>\n",
       "<table border=\"1\" class=\"dataframe\">\n",
       "  <thead>\n",
       "    <tr style=\"text-align: right;\">\n",
       "      <th></th>\n",
       "      <th>Place</th>\n",
       "      <th>Start Pos.</th>\n",
       "      <th>Warn.</th>\n",
       "      <th>#</th>\n",
       "      <th>Name</th>\n",
       "      <th>ISU Member</th>\n",
       "      <th>Results</th>\n",
       "      <th>Unnamed: 7</th>\n",
       "      <th>Qual.</th>\n",
       "      <th>Points</th>\n",
       "      <th>1</th>\n",
       "      <th>2</th>\n",
       "      <th>3</th>\n",
       "      <th>4</th>\n",
       "      <th>5</th>\n",
       "    </tr>\n",
       "  </thead>\n",
       "  <tbody>\n",
       "    <tr>\n",
       "      <th>0</th>\n",
       "      <td>1</td>\n",
       "      <td>1</td>\n",
       "      <td>NaN</td>\n",
       "      <td>3</td>\n",
       "      <td>Arianna FONTANA</td>\n",
       "      <td>ITA</td>\n",
       "      <td>42.488</td>\n",
       "      <td>NaN</td>\n",
       "      <td>NaN</td>\n",
       "      <td>NaN</td>\n",
       "      <td>7.10</td>\n",
       "      <td>9.09</td>\n",
       "      <td>8.68</td>\n",
       "      <td>8.75</td>\n",
       "      <td>8.86</td>\n",
       "    </tr>\n",
       "    <tr>\n",
       "      <th>1</th>\n",
       "      <td>2</td>\n",
       "      <td>2</td>\n",
       "      <td>NaN</td>\n",
       "      <td>1</td>\n",
       "      <td>Suzanne SCHULTING</td>\n",
       "      <td>NED</td>\n",
       "      <td>42.559</td>\n",
       "      <td>NaN</td>\n",
       "      <td>NaN</td>\n",
       "      <td>NaN</td>\n",
       "      <td>6.96</td>\n",
       "      <td>9.11</td>\n",
       "      <td>8.72</td>\n",
       "      <td>8.90</td>\n",
       "      <td>8.86</td>\n",
       "    </tr>\n",
       "    <tr>\n",
       "      <th>2</th>\n",
       "      <td>3</td>\n",
       "      <td>3</td>\n",
       "      <td>NaN</td>\n",
       "      <td>35</td>\n",
       "      <td>BOUTIN Kim</td>\n",
       "      <td>CAN</td>\n",
       "      <td>42.724</td>\n",
       "      <td>NaN</td>\n",
       "      <td>NaN</td>\n",
       "      <td>NaN</td>\n",
       "      <td>7.23</td>\n",
       "      <td>9.07</td>\n",
       "      <td>8.69</td>\n",
       "      <td>8.80</td>\n",
       "      <td>8.93</td>\n",
       "    </tr>\n",
       "    <tr>\n",
       "      <th>3</th>\n",
       "      <td>4</td>\n",
       "      <td>4</td>\n",
       "      <td>NaN</td>\n",
       "      <td>45</td>\n",
       "      <td>ZHANG Yuting</td>\n",
       "      <td>CHN</td>\n",
       "      <td>42.803</td>\n",
       "      <td>NaN</td>\n",
       "      <td>NaN</td>\n",
       "      <td>NaN</td>\n",
       "      <td>7.44</td>\n",
       "      <td>9.06</td>\n",
       "      <td>8.60</td>\n",
       "      <td>8.76</td>\n",
       "      <td>8.94</td>\n",
       "    </tr>\n",
       "    <tr>\n",
       "      <th>4</th>\n",
       "      <td>5</td>\n",
       "      <td>5</td>\n",
       "      <td>NaN</td>\n",
       "      <td>5</td>\n",
       "      <td>DESMET Hanne</td>\n",
       "      <td>BEL</td>\n",
       "      <td>42.941</td>\n",
       "      <td>NaN</td>\n",
       "      <td>NaN</td>\n",
       "      <td>NaN</td>\n",
       "      <td>7.66</td>\n",
       "      <td>9.12</td>\n",
       "      <td>8.57</td>\n",
       "      <td>8.70</td>\n",
       "      <td>8.89</td>\n",
       "    </tr>\n",
       "  </tbody>\n",
       "</table>\n",
       "</div>"
      ],
      "text/plain": [
       "   Place  Start Pos.  Warn.   #               Name ISU Member  Results  \\\n",
       "0      1           1    NaN   3    Arianna FONTANA        ITA   42.488   \n",
       "1      2           2    NaN   1  Suzanne SCHULTING        NED   42.559   \n",
       "2      3           3    NaN  35         BOUTIN Kim        CAN   42.724   \n",
       "3      4           4    NaN  45       ZHANG Yuting        CHN   42.803   \n",
       "4      5           5    NaN   5       DESMET Hanne        BEL   42.941   \n",
       "\n",
       "   Unnamed: 7  Qual.  Points     1     2     3     4     5  \n",
       "0         NaN    NaN     NaN  7.10  9.09  8.68  8.75  8.86  \n",
       "1         NaN    NaN     NaN  6.96  9.11  8.72  8.90  8.86  \n",
       "2         NaN    NaN     NaN  7.23  9.07  8.69  8.80  8.93  \n",
       "3         NaN    NaN     NaN  7.44  9.06  8.60  8.76  8.94  \n",
       "4         NaN    NaN     NaN  7.66  9.12  8.57  8.70  8.89  "
      ]
     },
     "execution_count": 32,
     "metadata": {},
     "output_type": "execute_result"
    }
   ],
   "source": [
    "pd.merge(tables[0], lap_time, how=\"inner\")"
   ]
  },
  {
   "cell_type": "code",
   "execution_count": null,
   "id": "f9946a0d",
   "metadata": {},
   "outputs": [],
   "source": []
  }
 ],
 "metadata": {
  "kernelspec": {
   "display_name": "Python 3",
   "language": "python",
   "name": "python3"
  },
  "language_info": {
   "codemirror_mode": {
    "name": "ipython",
    "version": 3
   },
   "file_extension": ".py",
   "mimetype": "text/x-python",
   "name": "python",
   "nbconvert_exporter": "python",
   "pygments_lexer": "ipython3",
   "version": "3.8.8"
  }
 },
 "nbformat": 4,
 "nbformat_minor": 5
}
