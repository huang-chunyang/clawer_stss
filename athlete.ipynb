{
 "cells": [
  {
   "cell_type": "code",
   "execution_count": 2,
   "id": "d1762f45",
   "metadata": {},
   "outputs": [],
   "source": [
    "import re\n",
    "import requests\n",
    "from bs4 import BeautifulSoup\n",
    "import pandas as pd"
   ]
  },
  {
   "cell_type": "markdown",
   "id": "1b556146",
   "metadata": {},
   "source": [
    "爬取运动员的姓名，国家，性别\n",
    "standings_url = \"https://isu.html.infostradasports.com/cache/TheASP.asp@PageID%3D302901&SportID%3D302&TaalCode%3D2&StyleID%3D0&Cache%3D2.html?522091\""
   ]
  },
  {
   "cell_type": "code",
   "execution_count": 3,
   "id": "95beb5b7",
   "metadata": {},
   "outputs": [],
   "source": [
    "# from standings_url\n",
    "standings_url = \"https://isu.html.infostradasports.com/cache/TheASP.asp@PageID%3D302901&SportID%3D302&TaalCode%3D2&StyleID%3D0&Cache%3D2.html?522091\""
   ]
  },
  {
   "cell_type": "code",
   "execution_count": 4,
   "id": "411a7a4a",
   "metadata": {},
   "outputs": [],
   "source": [
    "country_data = requests.get(standings_url)"
   ]
  },
  {
   "cell_type": "code",
   "execution_count": 5,
   "id": "3e64cd42",
   "metadata": {},
   "outputs": [],
   "source": [
    "country_soup = BeautifulSoup(country_data.text).select(\"table\")[0].find_all(\"a\")"
   ]
  },
  {
   "cell_type": "code",
   "execution_count": 6,
   "id": "51790f18",
   "metadata": {},
   "outputs": [],
   "source": [
    "country_links = ['https://isu.html.infostradasports.com' + l.get(\"href\") for l in country_soup]\n",
    "athlete_tables = []"
   ]
  },
  {
   "cell_type": "code",
   "execution_count": 7,
   "id": "0f8caee5",
   "metadata": {},
   "outputs": [],
   "source": [
    "country_links = list(set(country_links))"
   ]
  },
  {
   "cell_type": "code",
   "execution_count": 8,
   "id": "06f02370",
   "metadata": {},
   "outputs": [],
   "source": [
    "for country_link in country_links:\n",
    "    athlete_data= requests.get(country_link)\n",
    "    athlete_table = pd.read_html(athlete_data.text)[0].dropna(axis=1)\n",
    "    athlete_table.columns = [\"Gender\", \"Name\", \"Birthdate\"]\n",
    "    athlete_tables.append(athlete_table)"
   ]
  },
  {
   "cell_type": "code",
   "execution_count": 9,
   "id": "8ef9374f",
   "metadata": {},
   "outputs": [
    {
     "data": {
      "text/plain": [
       "50"
      ]
     },
     "execution_count": 9,
     "metadata": {},
     "output_type": "execute_result"
    }
   ],
   "source": [
    "len(athlete_tables)"
   ]
  },
  {
   "cell_type": "code",
   "execution_count": 10,
   "id": "777f6418",
   "metadata": {},
   "outputs": [],
   "source": [
    "athletes = pd.concat(athlete_tables)"
   ]
  },
  {
   "cell_type": "code",
   "execution_count": 11,
   "id": "5d2313bb",
   "metadata": {},
   "outputs": [
    {
     "name": "stdout",
     "output_type": "stream",
     "text": [
      "   Gender               Name    Birthdate\n",
      "0       M          AN Victor  23 Nov 1985\n",
      "1       M   AYRAPETYAN Denis  17 Jan 1997\n",
      "2       M  BALBEKOV Vladimir  11 Sep 2002\n",
      "3       W     BELYAKOVA Olga  26 Sep 1988\n",
      "4       W   BERESNEVA Yuliia  13 May 2002\n",
      "..    ...                ...          ...\n",
      "10      W    THOMSON Kathryn  26 Jan 1996\n",
      "11      M       TREACY Ethan  19 Jun 1998\n",
      "12      M     TREACY Farrell  29 Apr 1995\n",
      "13      M       TREACY Niall  22 Jul 2000\n",
      "14      M      YATES Westley  21 Feb 2000\n",
      "\n",
      "[618 rows x 3 columns]\n"
     ]
    }
   ],
   "source": [
    "print(athletes)"
   ]
  },
  {
   "cell_type": "code",
   "execution_count": null,
   "id": "9d0c91b1",
   "metadata": {},
   "outputs": [],
   "source": [
    "age_list = []\n",
    "rows, columns = athletes.shape\n",
    "for row in range(rows):\n",
    "    age = re.match(\"\", athletes[\"Birthdate\"][row])"
   ]
  },
  {
   "cell_type": "code",
   "execution_count": 12,
   "id": "3e68bfff",
   "metadata": {},
   "outputs": [],
   "source": [
    "athletes.to_csv(\"data/athletes.csv\", index=False)"
   ]
  },
  {
   "cell_type": "code",
   "execution_count": null,
   "id": "1d8d00b2",
   "metadata": {},
   "outputs": [],
   "source": [
    "re.match(\"\", athletes[\"Birthdate\"][row])"
   ]
  },
  {
   "cell_type": "code",
   "execution_count": 28,
   "id": "56942b4f",
   "metadata": {},
   "outputs": [
    {
     "data": {
      "text/plain": [
       "'11 Sep 2002'"
      ]
     },
     "execution_count": 28,
     "metadata": {},
     "output_type": "execute_result"
    }
   ],
   "source": [
    "list(athletes[\"Birthdate\"])[2]"
   ]
  },
  {
   "cell_type": "code",
   "execution_count": null,
   "id": "5baa0321",
   "metadata": {},
   "outputs": [],
   "source": []
  },
  {
   "cell_type": "code",
   "execution_count": null,
   "id": "119d7449",
   "metadata": {},
   "outputs": [],
   "source": []
  },
  {
   "cell_type": "code",
   "execution_count": null,
   "id": "2088d7ae",
   "metadata": {},
   "outputs": [],
   "source": []
  },
  {
   "cell_type": "code",
   "execution_count": null,
   "id": "cc8c1491",
   "metadata": {},
   "outputs": [],
   "source": []
  },
  {
   "cell_type": "code",
   "execution_count": null,
   "id": "f317603a",
   "metadata": {},
   "outputs": [],
   "source": []
  },
  {
   "cell_type": "code",
   "execution_count": null,
   "id": "aa9db91e",
   "metadata": {},
   "outputs": [],
   "source": []
  },
  {
   "cell_type": "code",
   "execution_count": null,
   "id": "938aa8ba",
   "metadata": {},
   "outputs": [],
   "source": []
  },
  {
   "cell_type": "code",
   "execution_count": null,
   "id": "da05a337",
   "metadata": {},
   "outputs": [],
   "source": []
  },
  {
   "cell_type": "code",
   "execution_count": null,
   "id": "8422fca7",
   "metadata": {},
   "outputs": [],
   "source": []
  },
  {
   "cell_type": "code",
   "execution_count": null,
   "id": "cd16c45c",
   "metadata": {},
   "outputs": [],
   "source": []
  }
 ],
 "metadata": {
  "kernelspec": {
   "display_name": "Python 3",
   "language": "python",
   "name": "python3"
  },
  "language_info": {
   "codemirror_mode": {
    "name": "ipython",
    "version": 3
   },
   "file_extension": ".py",
   "mimetype": "text/x-python",
   "name": "python",
   "nbconvert_exporter": "python",
   "pygments_lexer": "ipython3",
   "version": "3.8.8"
  }
 },
 "nbformat": 4,
 "nbformat_minor": 5
}
